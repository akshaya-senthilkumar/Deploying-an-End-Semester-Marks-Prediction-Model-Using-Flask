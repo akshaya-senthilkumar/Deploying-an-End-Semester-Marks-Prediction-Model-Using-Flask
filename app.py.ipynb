{
 "cells": [
  {
   "cell_type": "markdown",
   "id": "160572a2",
   "metadata": {},
   "source": [
    "!pip install flask"
   ]
  },
  {
   "cell_type": "markdown",
   "id": "b9ec90a3",
   "metadata": {},
   "source": [
    "import sys\n",
    "sys.executable"
   ]
  },
  {
   "cell_type": "markdown",
   "id": "5a597fe6",
   "metadata": {},
   "source": [
    "!{sys.executable} -m pip install flask"
   ]
  },
  {
   "cell_type": "code",
   "execution_count": null,
   "id": "3b9b13af",
   "metadata": {},
   "outputs": [
    {
     "name": "stderr",
     "output_type": "stream",
     "text": [
      "WARNING: This is a development server. Do not use it in a production deployment. Use a production WSGI server instead.\n",
      " * Running on http://localhost:5000\n",
      "Press CTRL+C to quit\n",
      "127.0.0.1 - - [28/Aug/2024 22:28:03] \"GET / HTTP/1.1\" 200 -\n",
      "127.0.0.1 - - [28/Aug/2024 22:28:05] \"GET /static/style.css HTTP/1.1\" 404 -\n",
      "127.0.0.1 - - [28/Aug/2024 22:28:05] \"GET /favicon.ico HTTP/1.1\" 404 -\n",
      "C:\\Users\\admin\\anaconda3\\Lib\\site-packages\\sklearn\\base.py:464: UserWarning: X does not have valid feature names, but LinearRegression was fitted with feature names\n",
      "  warnings.warn(\n",
      "127.0.0.1 - - [28/Aug/2024 22:28:22] \"POST /predict HTTP/1.1\" 200 -\n",
      "127.0.0.1 - - [28/Aug/2024 22:28:22] \""
     ]
    }
   ],
   "source": [
    "from flask import Flask, request, render_template\n",
    "import pickle\n",
    "import numpy as np\n",
    "from werkzeug.serving import run_simple\n",
    "\n",
    "app = Flask(__name__)\n",
    "\n",
    "# Load the trained model\n",
    "with open('linear_regression_model.pkl', 'rb') as file:\n",
    "    model = pickle.load(file)\n",
    "\n",
    "@app.route('/')\n",
    "def home():\n",
    "    return render_template('index.html')\n",
    "\n",
    "@app.route('/predict', methods=['POST'])\n",
    "def predict():\n",
    "    try:\n",
    "        # Get data from form\n",
    "        mid_sem_mark = float(request.form['MSE'])\n",
    "        attendance = float(request.form['Attendance'])\n",
    "\n",
    "        # Combine the inputs into a feature array\n",
    "        input_data = [[mid_sem_mark, attendance]]\n",
    "        reshaped_data = np.array(input_data).reshape(1, -1)\n",
    "\n",
    "        # Make a prediction\n",
    "        prediction = model.predict(reshaped_data)\n",
    "\n",
    "        # Return the prediction result\n",
    "        return render_template('index.html', prediction=prediction[0])\n",
    "\n",
    "    except Exception as e:\n",
    "        return str(e)  # Return the error message if there's an issue\n",
    "\n",
    "if __name__ == '__main__':\n",
    "    run_simple('localhost', 5000, app)\n"
   ]
  }
 ],
 "metadata": {
  "kernelspec": {
   "display_name": "Python 3 (ipykernel)",
   "language": "python",
   "name": "python3"
  },
  "language_info": {
   "codemirror_mode": {
    "name": "ipython",
    "version": 3
   },
   "file_extension": ".py",
   "mimetype": "text/x-python",
   "name": "python",
   "nbconvert_exporter": "python",
   "pygments_lexer": "ipython3",
   "version": "3.11.5"
  }
 },
 "nbformat": 4,
 "nbformat_minor": 5
}
